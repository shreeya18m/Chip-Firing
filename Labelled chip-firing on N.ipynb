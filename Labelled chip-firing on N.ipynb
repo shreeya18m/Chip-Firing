{
 "cells": [
  {
   "cell_type": "code",
   "execution_count": 1,
   "id": "c24d77d6",
   "metadata": {},
   "outputs": [],
   "source": [
    "def Nsetup(n,m):\n",
    "    r'''Inputs: Integers n and m\n",
    "    Returns (S,c) where S = The sandpile corresponding to a graph on the natural numbers \n",
    "    in [0,n+1] with a single undirected edge between (i,i+1) for i in {0, 1, ... n} with sink at (n+1)\n",
    "    and c = the configuration on S with n chips at vertex m'''\n",
    "    G = {i:{(i-1):1,(i+1):1} for i in range(1,(n+1))}\n",
    "    G = {**G, **{0:{1:1}},**{(n+1):{n:1}}}\n",
    "    S = Sandpile(G, n+1)\n",
    "    A = [0 for _ in range(0,(n+1))]; A[m] = n\n",
    "    c = SandpileConfig(S, A)\n",
    "    return S,c"
   ]
  },
  {
   "cell_type": "code",
   "execution_count": 2,
   "id": "c4e26a7f",
   "metadata": {},
   "outputs": [],
   "source": [
    "def word(A):\n",
    "    r'''Input: A list A\n",
    "    Returns the word corresponding to a list. e.g.[a,b,c] --> abc'''\n",
    "    return '.'.join(map(str, A))\n",
    "\n",
    "def Config_poset(S,c):\n",
    "    r'''Inputs: A sandpile S and a configuration c on S\n",
    "    Returns (P,d) where P = the configuration poset on the sandpile S starting with configuration c and \n",
    "    d = The dictionary mapping each tuple (a,b) where b covers a in P to the label of the vertex which was fired\n",
    "    in the process b --> a'''\n",
    "    from collections import defaultdict\n",
    "    from queue import Queue\n",
    "    covers, queue, edge_labels = defaultdict(list), Queue(), dict()\n",
    "    queue.put(c)\n",
    "    while not queue.empty():\n",
    "        conf = queue.get()\n",
    "        for i in conf:\n",
    "            if S.out_degree(i) <= conf[i]:\n",
    "                new_conf = conf.fire_vertex(i)\n",
    "                if word(new_conf.values()) not in covers:\n",
    "                    queue.put(new_conf)\n",
    "                covers[word(new_conf.values())].append(word(conf.values()))\n",
    "                edge_labels[(word(new_conf.values()),word(conf.values()))] = i\n",
    "    return LatticePoset(covers), edge_labels"
   ]
  },
  {
   "cell_type": "code",
   "execution_count": 3,
   "id": "1d3184c9",
   "metadata": {},
   "outputs": [],
   "source": [
    "def show_Config_poset(S,c):\n",
    "    r'''Inputs: A sandpile S and a configuration c on S\n",
    "    Returns the hasse diagram (with figure size k) of the configuration poset on the sandpile S starting with configuration c'''\n",
    "    P, d = Config_poset(S,c)\n",
    "    return P.plot(figsize = P.height(), element_size = 400, cover_labels = d)"
   ]
  },
  {
   "cell_type": "code",
   "execution_count": 5,
   "id": "5b9ebbc7",
   "metadata": {},
   "outputs": [],
   "source": [
    "def Firing_poset(S,c):\n",
    "    r'''Inputs: A sandpile S, a configuration c on S\n",
    "    Returns (F,d) where F = the firing poset on the sandpile S starting with configuration c\n",
    "    and d = Internal (The dictionary specifying the labels of vertices in the hasse diagram of F)'''\n",
    "    P,d = Config_poset(S,c)\n",
    "    labels = {initial: move for (final, initial), move in d.items() if initial in P.join_irreducibles()}\n",
    "    return P.subposet(P.join_irreducibles()), labels\n",
    "    # return P.subposet(P.join_irreducibles()).plot(figsize = k, element_size = 400, element_labels = labels) "
   ]
  },
  {
   "cell_type": "code",
   "execution_count": 6,
   "id": "eedf936e",
   "metadata": {},
   "outputs": [],
   "source": [
    "def show_Firing_poset(S,c):\n",
    "    r'''Inputs: A sandpile S, a configuration c on S\n",
    "    Returns the hasse diagram of the firing poset on the sandpile S starting with configuration c'''\n",
    "    P,d = Config_poset(S,c)\n",
    "    F_poset, labels = Firing_poset(S,c)\n",
    "    graph_plot = F_poset.hasse_diagram().graphplot(layout=\"acyclic\", vertex_labels = labels)\n",
    "    new_pos = {i: (labels[i], graph_plot._pos[i][1]) for i in P.join_irreducibles()}\n",
    "    return F_poset.hasse_diagram().graphplot(pos = new_pos, vertex_labels = labels).show(figsize = F_poset.height())"
   ]
  },
  {
   "cell_type": "code",
   "execution_count": 9,
   "id": "2034984e",
   "metadata": {},
   "outputs": [],
   "source": [
    "def Firing_poset_N(n,m):\n",
    "    r'''Inputs: Integers n and m\n",
    "    Returns (F,d) where F = the firing poset on the natural numbers starting with the configuration which has n chips at vertex m\n",
    "    and d = Internal (The dictionary specifying the labels of vertices in the hasse diagram of F)'''\n",
    "    S,c = Nsetup(n,m)\n",
    "    return Firing_poset(S,c)"
   ]
  },
  {
   "cell_type": "code",
   "execution_count": 10,
   "id": "19689283",
   "metadata": {},
   "outputs": [],
   "source": [
    "def show_Firing_poset_N(n,m):\n",
    "    r'''Inputs: Integers n and m\n",
    "    Returns the hasse diagram of the firing poset on the natural numbers \n",
    "    starting with the configuration which has n chips at vertex m'''\n",
    "    S,c = Nsetup(n,m)\n",
    "    return show_Firing_poset(S,c)"
   ]
  }
 ],
 "metadata": {
  "kernelspec": {
   "display_name": "SageMath 9.5",
   "language": "sage",
   "name": "sagemath"
  },
  "language_info": {
   "codemirror_mode": {
    "name": "ipython",
    "version": 3
   },
   "file_extension": ".py",
   "mimetype": "text/x-python",
   "name": "python",
   "nbconvert_exporter": "python",
   "pygments_lexer": "ipython3",
   "version": "3.10.12"
  }
 },
 "nbformat": 4,
 "nbformat_minor": 5
}
